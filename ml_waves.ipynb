{
 "cells": [
  {
   "cell_type": "code",
   "execution_count": 1,
   "metadata": {},
   "outputs": [],
   "source": [
    "import tensorflow as tf\n",
    "from tensorflow import keras\n",
    "from tensorflow.keras import layers"
   ]
  },
  {
   "cell_type": "code",
   "execution_count": 2,
   "metadata": {},
   "outputs": [
    {
     "name": "stderr",
     "output_type": "stream",
     "text": [
      "Using TensorFlow backend.\n"
     ]
    }
   ],
   "source": [
    "from keras.models import Sequential\n",
    "from keras.layers import Dense\n",
    "import numpy as np\n",
    "import matplotlib.pyplot as plt"
   ]
  },
  {
   "cell_type": "code",
   "execution_count": 3,
   "metadata": {},
   "outputs": [],
   "source": [
    "N = 32\n",
    "batch = 10000\n",
    "\n",
    "# Generate random input data and desired output data\n",
    "sig = np.random.randn(batch, N) + 1j*np.random.randn(batch, N)\n",
    "F = np.fft.fft(sig, axis=-1)\n",
    "\n",
    "# First half of inputs/outputs is real part, second half is imaginary part\n",
    "X = np.hstack([sig.real, sig.imag])\n",
    "Y = np.hstack([F.real, F.imag])"
   ]
  },
  {
   "cell_type": "code",
   "execution_count": 24,
   "metadata": {},
   "outputs": [
    {
     "name": "stdout",
     "output_type": "stream",
     "text": [
      "Train on 10000 samples\n",
      "Epoch 1/100\n",
      "10000/10000 [==============================] - 1s 78us/sample - loss: 30.2024\n",
      "Epoch 2/100\n",
      "10000/10000 [==============================] - 0s 20us/sample - loss: 24.7126s - loss: 2\n",
      "Epoch 3/100\n",
      "10000/10000 [==============================] - 0s 20us/sample - loss: 20.0419\n",
      "Epoch 4/100\n",
      "10000/10000 [==============================] - 0s 19us/sample - loss: 16.1032\n",
      "Epoch 5/100\n",
      "10000/10000 [==============================] - 0s 19us/sample - loss: 12.8102\n",
      "Epoch 6/100\n",
      "10000/10000 [==============================] - 0s 20us/sample - loss: 10.0829\n",
      "Epoch 7/100\n",
      "10000/10000 [==============================] - 0s 19us/sample - loss: 7.8477\n",
      "Epoch 8/100\n",
      "10000/10000 [==============================] - 0s 19us/sample - loss: 6.0354\n",
      "Epoch 9/100\n",
      "10000/10000 [==============================] - 0s 19us/sample - loss: 4.5839\n",
      "Epoch 10/100\n",
      "10000/10000 [==============================] - 0s 19us/sample - loss: 3.4351\n",
      "Epoch 11/100\n",
      "10000/10000 [==============================] - 0s 19us/sample - loss: 2.5385\n",
      "Epoch 12/100\n",
      "10000/10000 [==============================] - 0s 19us/sample - loss: 1.8483\n",
      "Epoch 13/100\n",
      "10000/10000 [==============================] - 0s 20us/sample - loss: 1.3252\n",
      "Epoch 14/100\n",
      "10000/10000 [==============================] - 0s 19us/sample - loss: 0.9347\n",
      "Epoch 15/100\n",
      "10000/10000 [==============================] - 0s 20us/sample - loss: 0.6482\n",
      "Epoch 16/100\n",
      "10000/10000 [==============================] - 0s 20us/sample - loss: 0.4416\n",
      "Epoch 17/100\n",
      "10000/10000 [==============================] - 0s 19us/sample - loss: 0.2952\n",
      "Epoch 18/100\n",
      "10000/10000 [==============================] - 0s 19us/sample - loss: 0.1936\n",
      "Epoch 19/100\n",
      "10000/10000 [==============================] - 0s 20us/sample - loss: 0.1244\n",
      "Epoch 20/100\n",
      "10000/10000 [==============================] - 0s 19us/sample - loss: 0.0783\n",
      "Epoch 21/100\n",
      "10000/10000 [==============================] - 0s 20us/sample - loss: 0.0482\n",
      "Epoch 22/100\n",
      "10000/10000 [==============================] - 0s 20us/sample - loss: 0.0290\n",
      "Epoch 23/100\n",
      "10000/10000 [==============================] - 0s 20us/sample - loss: 0.0170\n",
      "Epoch 24/100\n",
      "10000/10000 [==============================] - 0s 19us/sample - loss: 0.0097\n",
      "Epoch 25/100\n",
      "10000/10000 [==============================] - 0s 20us/sample - loss: 0.0054\n",
      "Epoch 26/100\n",
      "10000/10000 [==============================] - 0s 19us/sample - loss: 0.0029\n",
      "Epoch 27/100\n",
      "10000/10000 [==============================] - 0s 20us/sample - loss: 0.0015\n",
      "Epoch 28/100\n",
      "10000/10000 [==============================] - 0s 22us/sample - loss: 7.9120e-04\n",
      "Epoch 29/100\n",
      "10000/10000 [==============================] - 0s 19us/sample - loss: 3.9145e-04\n",
      "Epoch 30/100\n",
      "10000/10000 [==============================] - 0s 20us/sample - loss: 1.8735e-04\n",
      "Epoch 31/100\n",
      "10000/10000 [==============================] - 0s 20us/sample - loss: 8.6514e-05\n",
      "Epoch 32/100\n",
      "10000/10000 [==============================] - 0s 20us/sample - loss: 3.8514e-05\n",
      "Epoch 33/100\n",
      "10000/10000 [==============================] - 0s 20us/sample - loss: 1.6484e-05\n",
      "Epoch 34/100\n",
      "10000/10000 [==============================] - 0s 20us/sample - loss: 6.7723e-06\n",
      "Epoch 35/100\n",
      "10000/10000 [==============================] - 0s 19us/sample - loss: 2.6640e-06\n",
      "Epoch 36/100\n",
      "10000/10000 [==============================] - 0s 20us/sample - loss: 1.0016e-06\n",
      "Epoch 37/100\n",
      "10000/10000 [==============================] - 0s 20us/sample - loss: 3.5883e-07\n",
      "Epoch 38/100\n",
      "10000/10000 [==============================] - 0s 20us/sample - loss: 1.2222e-07\n",
      "Epoch 39/100\n",
      "10000/10000 [==============================] - 0s 20us/sample - loss: 3.9490e-08\n",
      "Epoch 40/100\n",
      "10000/10000 [==============================] - 0s 19us/sample - loss: 1.2075e-08\n",
      "Epoch 41/100\n",
      "10000/10000 [==============================] - 0s 19us/sample - loss: 3.5210e-09\n",
      "Epoch 42/100\n",
      "10000/10000 [==============================] - 0s 20us/sample - loss: 1.0350e-09\n",
      "Epoch 43/100\n",
      "10000/10000 [==============================] - 0s 20us/sample - loss: 3.6337e-10\n",
      "Epoch 44/100\n",
      "10000/10000 [==============================] - 0s 20us/sample - loss: 1.9976e-10\n",
      "Epoch 45/100\n",
      "10000/10000 [==============================] - 0s 20us/sample - loss: 1.6648e-10\n",
      "Epoch 46/100\n",
      "10000/10000 [==============================] - 0s 20us/sample - loss: 1.5492e-10\n",
      "Epoch 47/100\n",
      "10000/10000 [==============================] - 0s 20us/sample - loss: 1.4394e-10\n",
      "Epoch 48/100\n",
      "10000/10000 [==============================] - 0s 20us/sample - loss: 1.3304e-10\n",
      "Epoch 49/100\n",
      "10000/10000 [==============================] - 0s 20us/sample - loss: 1.2152e-10\n",
      "Epoch 50/100\n",
      "10000/10000 [==============================] - 0s 20us/sample - loss: 1.1153e-10\n",
      "Epoch 51/100\n",
      "10000/10000 [==============================] - 0s 20us/sample - loss: 1.0160e-10\n",
      "Epoch 52/100\n",
      "10000/10000 [==============================] - 0s 20us/sample - loss: 9.2765e-11\n",
      "Epoch 53/100\n",
      "10000/10000 [==============================] - 0s 20us/sample - loss: 8.4841e-11\n",
      "Epoch 54/100\n",
      "10000/10000 [==============================] - 0s 19us/sample - loss: 7.7184e-11\n",
      "Epoch 55/100\n",
      "10000/10000 [==============================] - 0s 20us/sample - loss: 7.0723e-11\n",
      "Epoch 56/100\n",
      "10000/10000 [==============================] - 0s 20us/sample - loss: 6.3853e-11\n",
      "Epoch 57/100\n",
      "10000/10000 [==============================] - 0s 20us/sample - loss: 5.8162e-11\n",
      "Epoch 58/100\n",
      "10000/10000 [==============================] - 0s 20us/sample - loss: 5.2674e-11\n",
      "Epoch 59/100\n",
      "10000/10000 [==============================] - 0s 21us/sample - loss: 4.7741e-11\n",
      "Epoch 60/100\n",
      "10000/10000 [==============================] - 0s 21us/sample - loss: 4.3421e-11\n",
      "Epoch 61/100\n",
      "10000/10000 [==============================] - 0s 20us/sample - loss: 3.9177e-11\n",
      "Epoch 62/100\n",
      "10000/10000 [==============================] - 0s 20us/sample - loss: 3.5211e-11\n",
      "Epoch 63/100\n",
      "10000/10000 [==============================] - 0s 21us/sample - loss: 3.1883e-11\n",
      "Epoch 64/100\n",
      "10000/10000 [==============================] - 0s 21us/sample - loss: 2.9053e-11\n",
      "Epoch 65/100\n",
      "10000/10000 [==============================] - 0s 20us/sample - loss: 2.6258e-11\n",
      "Epoch 66/100\n",
      "10000/10000 [==============================] - 0s 20us/sample - loss: 2.3958e-11\n",
      "Epoch 67/100\n",
      "10000/10000 [==============================] - 0s 20us/sample - loss: 2.1593e-11\n",
      "Epoch 68/100\n",
      "10000/10000 [==============================] - 0s 20us/sample - loss: 1.9512e-11\n",
      "Epoch 69/100\n",
      "10000/10000 [==============================] - 0s 20us/sample - loss: 1.7627e-11\n",
      "Epoch 70/100\n",
      "10000/10000 [==============================] - 0s 20us/sample - loss: 1.5936e-11\n",
      "Epoch 71/100\n",
      "10000/10000 [==============================] - 0s 20us/sample - loss: 1.4365e-11\n",
      "Epoch 72/100\n",
      "10000/10000 [==============================] - 0s 20us/sample - loss: 1.3027e-11\n",
      "Epoch 73/100\n",
      "10000/10000 [==============================] - 0s 20us/sample - loss: 1.1846e-11\n",
      "Epoch 74/100\n",
      "10000/10000 [==============================] - 0s 20us/sample - loss: 1.0660e-11\n",
      "Epoch 75/100\n",
      "10000/10000 [==============================] - 0s 19us/sample - loss: 9.6699e-12\n",
      "Epoch 76/100\n",
      "10000/10000 [==============================] - 0s 20us/sample - loss: 8.7233e-12\n",
      "Epoch 77/100\n",
      "10000/10000 [==============================] - 0s 21us/sample - loss: 7.8408e-12\n",
      "Epoch 78/100\n",
      "10000/10000 [==============================] - 0s 20us/sample - loss: 7.0873e-12\n",
      "Epoch 79/100\n",
      "10000/10000 [==============================] - 0s 20us/sample - loss: 6.4300e-12\n",
      "Epoch 80/100\n",
      "10000/10000 [==============================] - 0s 20us/sample - loss: 5.7854e-12\n",
      "Epoch 81/100\n",
      "10000/10000 [==============================] - 0s 20us/sample - loss: 5.2567e-12\n",
      "Epoch 82/100\n",
      "10000/10000 [==============================] - 0s 20us/sample - loss: 4.8129e-12\n",
      "Epoch 83/100\n",
      "10000/10000 [==============================] - 0s 20us/sample - loss: 4.3882e-12\n",
      "Epoch 84/100\n",
      "10000/10000 [==============================] - 0s 20us/sample - loss: 3.9641e-12\n",
      "Epoch 85/100\n",
      "10000/10000 [==============================] - 0s 20us/sample - loss: 3.6085e-12\n",
      "Epoch 86/100\n",
      "10000/10000 [==============================] - 0s 20us/sample - loss: 3.2900e-12\n",
      "Epoch 87/100\n",
      "10000/10000 [==============================] - 0s 20us/sample - loss: 3.0030e-12\n",
      "Epoch 88/100\n",
      "10000/10000 [==============================] - 0s 20us/sample - loss: 2.7537e-12\n"
     ]
    },
    {
     "name": "stdout",
     "output_type": "stream",
     "text": [
      "Epoch 89/100\n",
      "10000/10000 [==============================] - 0s 19us/sample - loss: 2.4753e-12\n",
      "Epoch 90/100\n",
      "10000/10000 [==============================] - 0s 19us/sample - loss: 2.2666e-12\n",
      "Epoch 91/100\n",
      "10000/10000 [==============================] - 0s 20us/sample - loss: 2.0898e-12\n",
      "Epoch 92/100\n",
      "10000/10000 [==============================] - 0s 20us/sample - loss: 1.9341e-12\n",
      "Epoch 93/100\n",
      "10000/10000 [==============================] - 0s 21us/sample - loss: 1.7870e-12\n",
      "Epoch 94/100\n",
      "10000/10000 [==============================] - 0s 21us/sample - loss: 1.6649e-12\n",
      "Epoch 95/100\n",
      "10000/10000 [==============================] - 0s 20us/sample - loss: 1.5421e-12\n",
      "Epoch 96/100\n",
      "10000/10000 [==============================] - 0s 20us/sample - loss: 1.4305e-12\n",
      "Epoch 97/100\n",
      "10000/10000 [==============================] - 0s 20us/sample - loss: 1.3174e-12\n",
      "Epoch 98/100\n",
      "10000/10000 [==============================] - 0s 20us/sample - loss: 1.2290e-12\n",
      "Epoch 99/100\n",
      "10000/10000 [==============================] - 0s 20us/sample - loss: 1.1565e-12\n",
      "Epoch 100/100\n",
      "10000/10000 [==============================] - 0s 20us/sample - loss: 1.0926e-12\n"
     ]
    },
    {
     "data": {
      "text/plain": [
       "<tensorflow.python.keras.callbacks.History at 0x2907c1fb648>"
      ]
     },
     "execution_count": 24,
     "metadata": {},
     "output_type": "execute_result"
    }
   ],
   "source": [
    "model = keras.Sequential([layers.Dense(N*2, input_dim=N*2, use_bias=False)])\n",
    "model.compile(loss='mean_squared_error', optimizer='adam')\n",
    "model.fit(X, Y, epochs=100, batch_size=100)"
   ]
  },
  {
   "cell_type": "code",
   "execution_count": 25,
   "metadata": {},
   "outputs": [],
   "source": [
    "data = np.arange(N)"
   ]
  },
  {
   "cell_type": "code",
   "execution_count": 26,
   "metadata": {},
   "outputs": [],
   "source": [
    "def ANN_DFT(x):\n",
    "    if len(x) != N:\n",
    "        raise ValueError(f'Input must be length {N}')\n",
    "    pred = model.predict(np.hstack([x.real, x.imag])[np.newaxis])[0]\n",
    "    result = pred[:N] + 1j*pred[N:]\n",
    "    return result"
   ]
  },
  {
   "cell_type": "code",
   "execution_count": 27,
   "metadata": {},
   "outputs": [
    {
     "name": "stdout",
     "output_type": "stream",
     "text": [
      "ANN matches FFT: True\n"
     ]
    }
   ],
   "source": [
    "ANN = ANN_DFT(data)\n",
    "FFT = np.fft.fft(data)\n",
    "print(f'ANN matches FFT: {np.allclose(ANN, FFT)}')"
   ]
  },
  {
   "cell_type": "code",
   "execution_count": 45,
   "metadata": {},
   "outputs": [
    {
     "data": {
      "text/plain": [
       "<function matplotlib.pyplot.show(*args, **kw)>"
      ]
     },
     "execution_count": 45,
     "metadata": {},
     "output_type": "execute_result"
    },
    {
     "data": {
      "image/png": "[encoded data removed]",
      "text/plain": [
       "<Figure size 432x288 with 1 Axes>"
      ]
     },
     "metadata": {
      "needs_background": "light"
     },
     "output_type": "display_data"
    }
   ],
   "source": [
    "plt.plot(abs(ANN))\n",
    "plt.show"
   ]
  },
  {
   "cell_type": "code",
   "execution_count": 46,
   "metadata": {},
   "outputs": [
    {
     "data": {
      "text/plain": [
       "<function matplotlib.pyplot.show(*args, **kw)>"
      ]
     },
     "execution_count": 46,
     "metadata": {},
     "output_type": "execute_result"
    },
    {
     "data": {
      "image/png": "[encoded data removed]",
      "text/plain": [
       "<Figure size 432x288 with 1 Axes>"
      ]
     },
     "metadata": {
      "needs_background": "light"
     },
     "output_type": "display_data"
    }
   ],
   "source": [
    "plt.plot(abs(FFT))\n",
    "plt.show"
   ]
  },
  {
   "cell_type": "code",
   "execution_count": 39,
   "metadata": {},
   "outputs": [],
   "source": [
    "seno=[7*np.sin(3*2*np.pi*x/32) for x in data]"
   ]
  },
  {
   "cell_type": "code",
   "execution_count": 49,
   "metadata": {},
   "outputs": [
    {
     "name": "stdout",
     "output_type": "stream",
     "text": [
      "ANN matches FFT: True\n"
     ]
    }
   ],
   "source": [
    "sena=np.array(seno)\n",
    "ANN = ANN_DFT(sena)\n",
    "FFT = np.fft.fft(sena)\n",
    "print(f'ANN matches FFT: {np.allclose(ANN, FFT, rtol=1e-05, atol=1e-05)}')"
   ]
  },
  {
   "cell_type": "code",
   "execution_count": 91,
   "metadata": {},
   "outputs": [],
   "source": [
    "expo=[7*np.exp(3*1j*2*np.pi*(x)/32+1j*np.pi) for x in data]\n",
    "FFT=np.fft.fft(expo)"
   ]
  },
  {
   "cell_type": "code",
   "execution_count": 92,
   "metadata": {},
   "outputs": [
    {
     "data": {
      "text/plain": [
       "<function matplotlib.pyplot.show(*args, **kw)>"
      ]
     },
     "execution_count": 92,
     "metadata": {},
     "output_type": "execute_result"
    },
    {
     "data": {
      "image/png": "[encoded data removed]",
      "text/plain": [
       "<Figure size 432x288 with 1 Axes>"
      ]
     },
     "metadata": {
      "needs_background": "light"
     },
     "output_type": "display_data"
    }
   ],
   "source": [
    "plt.plot(abs(FFT))\n",
    "plt.show"
   ]
  },
  {
   "cell_type": "code",
   "execution_count": 93,
   "metadata": {},
   "outputs": [
    {
     "data": {
      "text/plain": [
       "array([ 2.36295051e-14+6.97615973e-15j,  2.16746224e-14+1.45933193e-14j,\n",
       "        2.25596980e-14+4.35412193e-15j, -2.24000000e+02+1.24757255e-13j,\n",
       "       -2.06724548e-14+2.82505506e-15j, -2.10367158e-14+2.17845274e-14j,\n",
       "       -2.17671740e-14+7.68248053e-15j,  1.58576683e-14+9.46002353e-15j,\n",
       "       -4.05413857e-14+1.51918101e-14j, -2.52070347e-14-3.87472589e-14j,\n",
       "        3.32677509e-14+5.34317211e-15j, -9.63567642e-16+2.89762101e-14j,\n",
       "       -4.69945450e-14-1.75861469e-14j,  1.70673476e-14-2.49571835e-14j,\n",
       "       -2.32575794e-15-1.15852961e-14j, -2.50281953e-14+2.86481747e-14j,\n",
       "       -1.27858101e-14-5.01424893e-15j, -4.88459762e-14-1.69943034e-14j,\n",
       "       -4.92939246e-15-1.83794227e-14j,  0.00000000e+00-6.02472101e-14j,\n",
       "        6.64715401e-15-1.50739990e-14j,  4.37311684e-14-1.36946572e-14j,\n",
       "        8.89463858e-15-3.94421289e-15j,  3.00524912e-14+2.36238788e-14j,\n",
       "        1.64708922e-15-1.32298993e-14j, -1.29374577e-14-2.39010775e-14j,\n",
       "        4.46541050e-14-1.93684729e-14j,  9.63567642e-16+2.89762101e-14j,\n",
       "       -3.09796019e-14+5.33720299e-15j,  2.55540461e-14-3.81334154e-14j,\n",
       "        3.96961812e-14+1.53235638e-14j, -2.08819642e-14+4.43572766e-15j])"
      ]
     },
     "execution_count": 93,
     "metadata": {},
     "output_type": "execute_result"
    }
   ],
   "source": [
    "FFT"
   ]
  },
  {
   "cell_type": "code",
   "execution_count": 94,
   "metadata": {},
   "outputs": [
    {
     "data": {
      "text/plain": [
       "224.0"
      ]
     },
     "execution_count": 94,
     "metadata": {},
     "output_type": "execute_result"
    }
   ],
   "source": [
    "abs(FFT[3])"
   ]
  },
  {
   "cell_type": "code",
   "execution_count": 95,
   "metadata": {},
   "outputs": [
    {
     "data": {
      "text/plain": [
       "3.1415926535897927"
      ]
     },
     "execution_count": 95,
     "metadata": {},
     "output_type": "execute_result"
    }
   ],
   "source": [
    "np.angle(FFT[3])"
   ]
  },
  {
   "cell_type": "code",
   "execution_count": 68,
   "metadata": {},
   "outputs": [
    {
     "data": {
      "text/plain": [
       "(-186.24919300000002-124.447732j)"
      ]
     },
     "execution_count": 68,
     "metadata": {},
     "output_type": "execute_result"
    }
   ],
   "source": [
    "223.99999976137295*np.exp(1j*(-2.552544031384349))"
   ]
  },
  {
   "cell_type": "code",
   "execution_count": 69,
   "metadata": {},
   "outputs": [
    {
     "data": {
      "text/plain": [
       "(-0.8314696123025456-0.5555702330196017j)"
      ]
     },
     "execution_count": 69,
     "metadata": {},
     "output_type": "execute_result"
    }
   ],
   "source": [
    "np.exp(3*1j*2*np.pi*(17)/32)"
   ]
  },
  {
   "cell_type": "code",
   "execution_count": null,
   "metadata": {},
   "outputs": [],
   "source": []
  }
 ],
 "metadata": {
  "kernelspec": {
   "display_name": "Python 3",
   "language": "python",
   "name": "python3"
  },
  "language_info": {
   "codemirror_mode": {
    "name": "ipython",
    "version": 3
   },
   "file_extension": ".py",
   "mimetype": "text/x-python",
   "name": "python",
   "nbconvert_exporter": "python",
   "pygments_lexer": "ipython3",
   "version": "3.7.5"
  }
 },
 "nbformat": 4,
 "nbformat_minor": 2
}
